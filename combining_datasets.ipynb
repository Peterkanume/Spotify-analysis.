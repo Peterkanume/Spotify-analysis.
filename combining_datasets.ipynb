{
 "cells": [
  {
   "cell_type": "code",
   "execution_count": 1,
   "id": "da36b784-6d2d-4aee-9f5f-6295c6dd6e60",
   "metadata": {},
   "outputs": [],
   "source": [
    "import pandas as pd"
   ]
  },
  {
   "cell_type": "code",
   "execution_count": 2,
   "id": "d57edf81-1eec-4b4c-9cf2-799becef89a3",
   "metadata": {},
   "outputs": [],
   "source": [
    "\"\"\"\n",
    "we will start by importing the artists csv and clean it first before trying to join it to the other dataset\n",
    "\"\"\"\n",
    "df = pd.read_csv('artists.csv')"
   ]
  },
  {
   "cell_type": "code",
   "execution_count": 3,
   "id": "69372887-6bea-4bd4-93fa-40101d72f155",
   "metadata": {},
   "outputs": [
    {
     "name": "stdout",
     "output_type": "stream",
     "text": [
      "          Artist   Streams   Daily   As lead      Solo As feature\n",
      "0          Drake  85,041.3  50.775  57,252.6  32,681.6   27,788.7\n",
      "1      Bad Bunny  67,533.0  44.820  40,969.6  23,073.0   26,563.4\n",
      "2   Taylor Swift  57,859.0  85.793  55,566.7  50,425.7    2,292.4\n",
      "3     The Weeknd  53,665.2  44.437  42,673.3  31,164.2   10,991.9\n",
      "4     Ed Sheeran  47,907.7  17.506  42,767.9  33,917.0    5,139.8\n",
      "5  Justin Bieber  47,525.7  18.868  27,988.0  17,183.9   19,537.7\n",
      "6         Eminem  42,029.0  20.175  35,475.8  21,576.7    6,553.2\n",
      "7  Ariana Grande  40,111.0  17.158  33,219.8  23,307.3    6,891.2\n",
      "8       J Balvin  38,774.8  11.784  17,450.7   5,699.8   21,324.2\n",
      "9    Post Malone  38,002.7  21.095  34,494.0  18,943.9    3,508.6\n"
     ]
    }
   ],
   "source": [
    "print(df.head(10))"
   ]
  },
  {
   "cell_type": "code",
   "execution_count": 4,
   "id": "ea42b7dd-448c-4719-818f-415b88e8b7f6",
   "metadata": {},
   "outputs": [
    {
     "name": "stdout",
     "output_type": "stream",
     "text": [
      "<class 'pandas.core.frame.DataFrame'>\n",
      "RangeIndex: 3000 entries, 0 to 2999\n",
      "Data columns (total 6 columns):\n",
      " #   Column      Non-Null Count  Dtype  \n",
      "---  ------      --------------  -----  \n",
      " 0   Artist      3000 non-null   object \n",
      " 1   Streams     3000 non-null   object \n",
      " 2   Daily       2994 non-null   float64\n",
      " 3   As lead     2984 non-null   object \n",
      " 4   Solo        2931 non-null   object \n",
      " 5   As feature  2662 non-null   object \n",
      "dtypes: float64(1), object(5)\n",
      "memory usage: 140.8+ KB\n",
      "None\n"
     ]
    }
   ],
   "source": [
    "print(df.info())"
   ]
  },
  {
   "cell_type": "code",
   "execution_count": 5,
   "id": "1b40f940-54d2-4504-800f-cf5316221285",
   "metadata": {},
   "outputs": [],
   "source": [
    "#we will remove any duplicates in our dataset.\n",
    "df = df.drop_duplicates()\n",
    "\n",
    "#we can also handle any missing values by dropping them\n",
    "df = df.dropna()"
   ]
  },
  {
   "cell_type": "code",
   "execution_count": 6,
   "id": "3981ef57-d5a2-4b9f-95db-a34c0caec7f1",
   "metadata": {},
   "outputs": [
    {
     "name": "stdout",
     "output_type": "stream",
     "text": [
      "<class 'pandas.core.frame.DataFrame'>\n",
      "Index: 2595 entries, 0 to 2999\n",
      "Data columns (total 6 columns):\n",
      " #   Column      Non-Null Count  Dtype  \n",
      "---  ------      --------------  -----  \n",
      " 0   Artist      2595 non-null   object \n",
      " 1   Streams     2595 non-null   object \n",
      " 2   Daily       2595 non-null   float64\n",
      " 3   As lead     2595 non-null   object \n",
      " 4   Solo        2595 non-null   object \n",
      " 5   As feature  2595 non-null   object \n",
      "dtypes: float64(1), object(5)\n",
      "memory usage: 141.9+ KB\n",
      "None\n"
     ]
    }
   ],
   "source": [
    "print(df.info())"
   ]
  },
  {
   "cell_type": "code",
   "execution_count": 7,
   "id": "6d75b8f2-e0f7-4eea-837d-f47113732b3c",
   "metadata": {},
   "outputs": [],
   "source": [
    "# we have seen clearly that from the original 3000 rows we are now at 2595\n"
   ]
  },
  {
   "cell_type": "code",
   "execution_count": 8,
   "id": "74f7cadb-02a1-4ce2-a638-f565814f8092",
   "metadata": {},
   "outputs": [
    {
     "name": "stdout",
     "output_type": "stream",
     "text": [
      "                    Artist and Title        Streams      Daily\n",
      "0       The Weeknd - Blinding Lights  3,783,983,806  1,736,378\n",
      "1          Ed Sheeran - Shape of You  3,616,649,759  1,135,140\n",
      "2  Lewis Capaldi - Someone You Loved  2,958,875,491  1,522,093\n",
      "3            Post Malone - Sunflower  2,898,311,408  1,871,177\n",
      "4         Tones And I - Dance Monkey  2,896,024,418    666,818\n"
     ]
    }
   ],
   "source": [
    "df1 = pd.read_csv('spotify most streamed.csv')\n",
    "print(df1.head())"
   ]
  },
  {
   "cell_type": "code",
   "execution_count": 9,
   "id": "e119e2a4-4b14-4830-9b9a-2325ccad124e",
   "metadata": {},
   "outputs": [
    {
     "name": "stdout",
     "output_type": "stream",
     "text": [
      "<class 'pandas.core.frame.DataFrame'>\n",
      "RangeIndex: 2500 entries, 0 to 2499\n",
      "Data columns (total 3 columns):\n",
      " #   Column            Non-Null Count  Dtype \n",
      "---  ------            --------------  ----- \n",
      " 0   Artist and Title  2500 non-null   object\n",
      " 1   Streams           2500 non-null   object\n",
      " 2   Daily             2497 non-null   object\n",
      "dtypes: object(3)\n",
      "memory usage: 58.7+ KB\n",
      "None\n"
     ]
    }
   ],
   "source": [
    "print(df1.info())"
   ]
  },
  {
   "cell_type": "code",
   "execution_count": 10,
   "id": "608c5584-3434-4a41-9c03-18524024d18e",
   "metadata": {},
   "outputs": [],
   "source": [
    "\"\"\"\n",
    "looking at our second dataset we see that the artist and title column have been joined, we can \n",
    "therefore try to split them so that we have a separate title column incase for future use \n",
    "\"\"\"\n",
    "split_columns = df1['Artist and Title'].str.rsplit(' - ',n=1, expand=True)\n",
    "df1['Artist'] = split_columns[0].str.strip()\n",
    "df1['Title'] = split_columns[1].str.strip()\n"
   ]
  },
  {
   "cell_type": "code",
   "execution_count": 11,
   "id": "2ad993a9-1896-4a78-9e95-2754e98960bd",
   "metadata": {},
   "outputs": [
    {
     "name": "stdout",
     "output_type": "stream",
     "text": [
      "                    Artist and Title        Streams      Daily         Artist  \\\n",
      "0       The Weeknd - Blinding Lights  3,783,983,806  1,736,378     The Weeknd   \n",
      "1          Ed Sheeran - Shape of You  3,616,649,759  1,135,140     Ed Sheeran   \n",
      "2  Lewis Capaldi - Someone You Loved  2,958,875,491  1,522,093  Lewis Capaldi   \n",
      "3            Post Malone - Sunflower  2,898,311,408  1,871,177    Post Malone   \n",
      "4         Tones And I - Dance Monkey  2,896,024,418    666,818    Tones And I   \n",
      "\n",
      "               Title  \n",
      "0    Blinding Lights  \n",
      "1       Shape of You  \n",
      "2  Someone You Loved  \n",
      "3          Sunflower  \n",
      "4       Dance Monkey  \n"
     ]
    }
   ],
   "source": [
    "print(df1.head())"
   ]
  },
  {
   "cell_type": "code",
   "execution_count": 12,
   "id": "2f96b86b-e165-4af5-9294-2528b6acbb1d",
   "metadata": {},
   "outputs": [
    {
     "name": "stdout",
     "output_type": "stream",
     "text": [
      "         Streams      Daily         Artist              Title\n",
      "0  3,783,983,806  1,736,378     The Weeknd    Blinding Lights\n",
      "1  3,616,649,759  1,135,140     Ed Sheeran       Shape of You\n",
      "2  2,958,875,491  1,522,093  Lewis Capaldi  Someone You Loved\n",
      "3  2,898,311,408  1,871,177    Post Malone          Sunflower\n",
      "4  2,896,024,418    666,818    Tones And I       Dance Monkey\n"
     ]
    }
   ],
   "source": [
    "#we can finally drop the artist and title column after finally separating the 2 \n",
    "df1.drop('Artist and Title', axis=1, inplace =True)\n",
    "print(df1.head())"
   ]
  },
  {
   "cell_type": "code",
   "execution_count": 13,
   "id": "82b46a8e-c2c1-46eb-b82d-0380802681f4",
   "metadata": {},
   "outputs": [],
   "source": [
    "#we can now clean this dataset\n",
    "df1 = df1.drop_duplicates()\n",
    "df1 = df1.dropna()"
   ]
  },
  {
   "cell_type": "code",
   "execution_count": 14,
   "id": "cfdb8d9c-257d-4fca-8c43-d4c1e92b2f6e",
   "metadata": {},
   "outputs": [
    {
     "name": "stdout",
     "output_type": "stream",
     "text": [
      "<class 'pandas.core.frame.DataFrame'>\n",
      "Index: 2497 entries, 0 to 2499\n",
      "Data columns (total 4 columns):\n",
      " #   Column   Non-Null Count  Dtype \n",
      "---  ------   --------------  ----- \n",
      " 0   Streams  2497 non-null   object\n",
      " 1   Daily    2497 non-null   object\n",
      " 2   Artist   2497 non-null   object\n",
      " 3   Title    2497 non-null   object\n",
      "dtypes: object(4)\n",
      "memory usage: 97.5+ KB\n",
      "None\n"
     ]
    }
   ],
   "source": [
    "print(df1.info())"
   ]
  },
  {
   "cell_type": "code",
   "execution_count": 15,
   "id": "242b8c60-b2c6-46b4-8165-6769ca70efe4",
   "metadata": {},
   "outputs": [
    {
     "name": "stdout",
     "output_type": "stream",
     "text": [
      "         Artist Total Streams   Daily   As lead      Solo As feature\n",
      "0         Drake      85,041.3  50.775  57,252.6  32,681.6   27,788.7\n",
      "1     Bad Bunny      67,533.0  44.820  40,969.6  23,073.0   26,563.4\n",
      "2  Taylor Swift      57,859.0  85.793  55,566.7  50,425.7    2,292.4\n",
      "3    The Weeknd      53,665.2  44.437  42,673.3  31,164.2   10,991.9\n",
      "4    Ed Sheeran      47,907.7  17.506  42,767.9  33,917.0    5,139.8\n"
     ]
    }
   ],
   "source": [
    "\"\"\"\n",
    "we can now try to merge our 2 datasets first before continuing,\n",
    "but we will have to first change the column name of our first dataset where we had streams to total streams\n",
    "\"\"\"\n",
    "df.rename(columns={'Streams' : 'Total Streams'}, inplace=True)\n",
    "print(df.head())"
   ]
  },
  {
   "cell_type": "code",
   "execution_count": 16,
   "id": "289f437c-3276-4aec-93e1-d6e1bc2a415f",
   "metadata": {},
   "outputs": [],
   "source": [
    "merged_df = pd.merge(df, df1, on='Artist', how='inner')"
   ]
  },
  {
   "cell_type": "code",
   "execution_count": 18,
   "id": "e975d7bd-66b0-4b00-b31c-314b4ff76cf4",
   "metadata": {},
   "outputs": [],
   "source": [
    "merged_df.to_csv('merged_2_datasets.csv', index=False)"
   ]
  },
  {
   "cell_type": "code",
   "execution_count": 19,
   "id": "752efd2a-53c4-4763-9681-e2945e6d3647",
   "metadata": {},
   "outputs": [
    {
     "name": "stdout",
     "output_type": "stream",
     "text": [
      "<class 'pandas.core.frame.DataFrame'>\n",
      "RangeIndex: 2135 entries, 0 to 2134\n",
      "Data columns (total 9 columns):\n",
      " #   Column         Non-Null Count  Dtype  \n",
      "---  ------         --------------  -----  \n",
      " 0   Artist         2135 non-null   object \n",
      " 1   Total Streams  2135 non-null   object \n",
      " 2   Daily_x        2135 non-null   float64\n",
      " 3   As lead        2135 non-null   object \n",
      " 4   Solo           2135 non-null   object \n",
      " 5   As feature     2135 non-null   object \n",
      " 6   Streams        2135 non-null   object \n",
      " 7   Daily_y        2135 non-null   object \n",
      " 8   Title          2135 non-null   object \n",
      "dtypes: float64(1), object(8)\n",
      "memory usage: 150.2+ KB\n",
      "None\n"
     ]
    }
   ],
   "source": [
    "print(merged_df.info())"
   ]
  },
  {
   "cell_type": "code",
   "execution_count": 20,
   "id": "929b36cc-4349-4aad-bfe9-66f0e5ec5a71",
   "metadata": {},
   "outputs": [],
   "source": [
    "merged_df.rename(columns={\n",
    "    'Total Streams': 'Total Artist Streams',\n",
    "    'Daily_x': 'Artist Daily Average Streams',\n",
    "    'Streams': 'Song Total Streams',\n",
    "    'Daily_y': 'Song Daily Streams'\n",
    "}, inplace=True)"
   ]
  },
  {
   "cell_type": "code",
   "execution_count": 21,
   "id": "a9a5309c-800b-4bab-938c-cbfd2979f0ec",
   "metadata": {},
   "outputs": [
    {
     "name": "stdout",
     "output_type": "stream",
     "text": [
      "  Artist Total Artist Streams  Artist Daily Average Streams   As lead  \\\n",
      "0  Drake             85,041.3                        50.775  57,252.6   \n",
      "1  Drake             85,041.3                        50.775  57,252.6   \n",
      "2  Drake             85,041.3                        50.775  57,252.6   \n",
      "3  Drake             85,041.3                        50.775  57,252.6   \n",
      "4  Drake             85,041.3                        50.775  57,252.6   \n",
      "\n",
      "       Solo As feature Song Total Streams Song Daily Streams           Title  \n",
      "0  32,681.6   27,788.7      2,770,548,672          1,461,772       One Dance  \n",
      "1  32,681.6   27,788.7      2,293,770,579            976,484      God's Plan  \n",
      "2  32,681.6   27,788.7      1,400,098,656            928,404    Passionfruit  \n",
      "3  32,681.6   27,788.7      1,324,734,035            278,754  In My Feelings  \n",
      "4  32,681.6   27,788.7      1,230,069,787            401,144   Hotline Bling  \n"
     ]
    }
   ],
   "source": [
    "print(merged_df.head())"
   ]
  },
  {
   "cell_type": "code",
   "execution_count": 22,
   "id": "c36eafcd-23a3-48e9-bac5-9aa31b5da8bd",
   "metadata": {},
   "outputs": [
    {
     "name": "stdout",
     "output_type": "stream",
     "text": [
      "  Artist  Total Artist Streams  Artist Daily Average Streams   As lead  \\\n",
      "0  Drake          8.504130e+10                        50.775  57,252.6   \n",
      "1  Drake          8.504130e+10                        50.775  57,252.6   \n",
      "2  Drake          8.504130e+10                        50.775  57,252.6   \n",
      "3  Drake          8.504130e+10                        50.775  57,252.6   \n",
      "4  Drake          8.504130e+10                        50.775  57,252.6   \n",
      "\n",
      "       Solo As feature Song Total Streams Song Daily Streams           Title  \n",
      "0  32,681.6   27,788.7      2,770,548,672          1,461,772       One Dance  \n",
      "1  32,681.6   27,788.7      2,293,770,579            976,484      God's Plan  \n",
      "2  32,681.6   27,788.7      1,400,098,656            928,404    Passionfruit  \n",
      "3  32,681.6   27,788.7      1,324,734,035            278,754  In My Feelings  \n",
      "4  32,681.6   27,788.7      1,230,069,787            401,144   Hotline Bling  \n"
     ]
    }
   ],
   "source": [
    "merged_df['Total Artist Streams'] = merged_df['Total Artist Streams'].str.replace(',','').astype(float) *1_000_000\n",
    "print(merged_df.head())"
   ]
  },
  {
   "cell_type": "code",
   "execution_count": 25,
   "id": "c4cd7fde-57a7-459b-935e-51f13b05f71c",
   "metadata": {},
   "outputs": [],
   "source": [
    "#at this point I believe that our dataset is ready for EDA, we will save it again and use it for EDA in the next notebook.\n",
    "merged_df.to_csv('final_combined_datasets.csv', index= False)"
   ]
  },
  {
   "cell_type": "code",
   "execution_count": null,
   "id": "210bc292-36c7-4947-bcd8-19596befd01a",
   "metadata": {},
   "outputs": [],
   "source": []
  }
 ],
 "metadata": {
  "kernelspec": {
   "display_name": "Python 3 (ipykernel)",
   "language": "python",
   "name": "python3"
  },
  "language_info": {
   "codemirror_mode": {
    "name": "ipython",
    "version": 3
   },
   "file_extension": ".py",
   "mimetype": "text/x-python",
   "name": "python",
   "nbconvert_exporter": "python",
   "pygments_lexer": "ipython3",
   "version": "3.11.7"
  }
 },
 "nbformat": 4,
 "nbformat_minor": 5
}
